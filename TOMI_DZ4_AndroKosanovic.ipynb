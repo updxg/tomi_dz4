{
 "cells": [
  {
   "cell_type": "markdown",
   "metadata": {},
   "source": [
    "# [TOMI] [DZ4] Hijearhijsko odlučivanje\n",
    "### Andro Kosanović\n"
   ]
  },
  {
   "cell_type": "markdown",
   "metadata": {},
   "source": [
    "## Sadržaj\n",
    "1. [Premisa](#premisa)\n",
    "2. [Odluka](#odluka)\n",
    "3. [Implementacija](#implementacija)"
   ]
  },
  {
   "cell_type": "markdown",
   "metadata": {},
   "source": [
    "## Premisa"
   ]
  },
  {
   "cell_type": "markdown",
   "metadata": {},
   "source": [
    "Pero Perić je upravitelj u javnom sektoru te ima mogućnost zaposliti malog od svog rođe mimo javnog natječaja, ali ima više rođe koji žele uhljebiti malog. Pero Perić, podmitivši studenta na praksi u HR odjelu, otkrio je profil kandidata za posao i potom retroaktivno naštimao uvjete natječaja tako da nitko od pravih kandidata ne dobije posao. \n",
    "\n",
    "To je napravio na idući način: obrazovanje ima slabu prednost pred iskustvom i jaku prednost pred komunikacijskim vještinama, a iskustvo ima jednaku do slabu prednost pred komunikacijskim vještinama.\n",
    "\n",
    "Trojica rođe su za krizmu Perićevog malog dali 100 eura, pa im je, iz principa, rekao za novi natječaj, a jedan od kandidata je preostao unatoč naštimavanju natječaja."
   ]
  },
  {
   "cell_type": "markdown",
   "metadata": {},
   "source": [
    "## Odluka"
   ]
  },
  {
   "cell_type": "markdown",
   "metadata": {},
   "source": [
    "### Kandidat broj 1: "
   ]
  },
  {
   "cell_type": "markdown",
   "metadata": {},
   "source": [
    "#### Puno ime: Ivo Ivić\n",
    "\n",
    "- Sin lokalnog moćnika koji, prema svom kupljenom CV-u, ima kupljenu diplomu na privatnom fakultetu kojeg je otkupio njegov otac, prema čemu je ostvario slabu do jaku prednost pred kandidatom broj 2, slabu prednost pred kandidatom broj 3, a jednaku do slabu prednost pred kandidatom broj 4.\n",
    "\n",
    "- Od radnog iskustva ima praksu iz srednje ugostiteljske i par mutnih poslova, par njih za Peru Perića osobno, pa mu to daje slabu prednost pred kandidatom 2, slabu do jaku prednost pred kandidatom 3 i jednaku do slabu prednost pred kandidatom 4.\n",
    "\n",
    "- Poznat je dobrom dijelu lokalne prometne policijske uprave. Naime, po 12. put se izvukao iz prometne kazne spomenuvši svoga oca, u čemu nije oklijevao ni u razgovoru za posao, što mu je dalo jednaku do slabu prednost pred kandidatom 2, slabu prednost pred kandidatom 3 i jaku prednost pred kandidatom 4."
   ]
  },
  {
   "cell_type": "markdown",
   "metadata": {},
   "source": [
    "### Kandidat broj 2:"
   ]
  },
  {
   "cell_type": "markdown",
   "metadata": {},
   "source": [
    "#### Puno ime: Marko Markić\n",
    "\n",
    "- Nakon osnovne škole otkrio lukrativni posao šverca cigareta iz Bosne i Hercegovine skuterom. Odustao nakon druge zatvorske kazne. HR odjel preporučio stručnu pomoć.\n",
    "\n",
    "- S obzirom na karijeru i sklonost krađe obiteljskog auta u adolescenciji, ima iskustva s logistikom i upravljanjem rizikom, što mu daje jednaku do slabu prednost pred kandidatom 3.\n",
    "\n",
    "- Iskusan je u zapričavanju, digresijama, retorikama, analogijama i sličnim metodama izbjegavanja teme i odugovlačenja, što mu daje jednaku do slabu prednost pred kandidatom 3 i slabu prednost pred kandidatom 4.\n"
   ]
  },
  {
   "cell_type": "markdown",
   "metadata": {},
   "source": [
    "### Kandidat broj 3:"
   ]
  },
  {
   "cell_type": "markdown",
   "metadata": {},
   "source": [
    "#### Puno ime: Jozo Jozić\n",
    "\n",
    "- Nije mu se dalo učiti za maturu a svaki prosjek bi mu bio 2.0 do kraja srednje obrtničke (+ popravna), što mu daje jednaku do slabu prednost pred kandidatom 2.\n",
    "\n",
    "- Koincidentno, svako ljeto praksu bi odrađivao u obrtu koji je u vlasništvu Petra Perića, Perinog starijeg brata, koji bi potpisao sate prakse bez da se dotični ikada pojavio. Pero to zna.\n",
    "\n",
    "- Dobro mu idu lažna obećanja i govorenje onoga što drugi žele čuti, što mu daje jednaku do slabu prednost pred kandidatom 4.\n"
   ]
  },
  {
   "cell_type": "markdown",
   "metadata": {},
   "source": [
    "### Kandidat broj 4:"
   ]
  },
  {
   "cell_type": "markdown",
   "metadata": {},
   "source": [
    "\n",
    "#### Puno ime: Ivan Ivanović (jedini preostali kandidat od prije naštimavanja)\n",
    "\n",
    "- Završio pravni fakultet nakon opće gimnazije, priložio i preporuke katedre svakog kolegija na pravnom fakultetu ikada, no to mu je donijelo slabu prednost pred kandidatom 2 i jednaku do slabu prednost pred kandidatom 3.\n",
    "\n",
    "- Stažirao je u mnogim odvjetničkim uredima, u nekima i bez plaće, ali to mu daje jednaku do slabu prednost pred kandidatom 2 i slabu prednost slabu prednost pred kandidatom 3.\n",
    "\n",
    "- Nije spominjao svog oca, svog rođu, njegovog malog, Peru, tuđu majku ni političke stranke, čime su ga procijenili najgorim od kandidata u kategoriji."
   ]
  },
  {
   "cell_type": "markdown",
   "metadata": {},
   "source": [
    "## Implementacija"
   ]
  },
  {
   "cell_type": "markdown",
   "metadata": {},
   "source": [
    "Bugovita aplikacija, koja radi manje nego više a koju je nabrzinu za velike novce poreznih obveznika nakucao mali od rođe s IT tvrtkom, koristi metodu potencija kako bi odlučila kojeg kandidata treba zaposliti."
   ]
  },
  {
   "cell_type": "code",
   "execution_count": 23,
   "metadata": {},
   "outputs": [],
   "source": [
    "import numpy as np\n",
    "\n",
    "# Metoda potencija\n",
    "def power_method(A, tol= np.pi * 10**-5, max_iter=1000):\n",
    "    n = A.shape[0]\n",
    "    x = np.random.rand(n, 1)  # Početni vektor\n",
    "    x /= np.linalg.norm(x)\n",
    "    \n",
    "    for _ in range(max_iter):\n",
    "        y = A @ x\n",
    "        lambda_ = np.dot(x.T, y).item()\n",
    "        x_new = y / np.linalg.norm(y)\n",
    "        \n",
    "        if np.linalg.norm(x_new - x) < tol:\n",
    "            return lambda_, x_new.flatten()\n",
    "        \n",
    "        x = x_new\n",
    "    \n",
    "    return lambda_, x.flatten()"
   ]
  },
  {
   "cell_type": "markdown",
   "metadata": {},
   "source": [
    "Pero Perić je najsporije moguće unosio sve navedene podatke u aplikaciju na svom brzom računalu od EU fondova. Oni u kodu izgledaju ovako:"
   ]
  },
  {
   "cell_type": "code",
   "execution_count": 24,
   "metadata": {},
   "outputs": [],
   "source": [
    "# Početni podaci\n",
    "criteria_labels = [\"Obrazovanje\", \"Iskustvo\", \"Komunikacijske vještine\"]\n",
    "alternatives_labels = [\"Kandidat 1\", \"Kandidat 2\", \"Kandidat 3\", \"Kandidat 4\"]\n",
    "initial_x = np.random.rand(len(criteria_labels), 1)  # Početni vektor za power method\n",
    "\n",
    "# Definicija matrice usporedbe za kriterije\n",
    "A_criteria = np.array([\n",
    "    [1, 3, 5],\n",
    "    [1/3, 1, 2],\n",
    "    [1/5, 1/2, 1]\n",
    "])\n",
    "\n",
    "# Definicija matrica usporedbe za alternative unutar svakog kriterija\n",
    "A1 = np.array([\n",
    "    [1, 4, 3, 2],\n",
    "    [1/4, 1, 1/2, 1/3],\n",
    "    [1/3, 2, 1, 1/2],\n",
    "    [1/2, 3, 2, 1]\n",
    "])\n",
    "\n",
    "A2 = np.array([\n",
    "    [1, 3, 4, 2],\n",
    "    [1/3, 1, 2, 1/2],\n",
    "    [1/4, 1/2, 1, 1/3],\n",
    "    [1/2, 2, 3, 1]\n",
    "])\n",
    "\n",
    "A3 = np.array([\n",
    "    [1, 2, 3, 5],\n",
    "    [1/2, 1, 2, 3],\n",
    "    [1/3, 1/2, 1, 2],\n",
    "    [1/5, 1/3, 1/2, 1]\n",
    "])"
   ]
  },
  {
   "cell_type": "markdown",
   "metadata": {},
   "source": [
    "Aplikacija je zbog problema s optimizacijom srušila server baze podataka Ministarstva gospodarstva, ali u međuvremenu je izračunala aproksimacije svojstvenih vektora i odgovarajuće težine:"
   ]
  },
  {
   "cell_type": "code",
   "execution_count": 25,
   "metadata": {},
   "outputs": [],
   "source": [
    "# Rješavanje metodom potencija\n",
    "lambda_max, eigenvector = power_method(A_criteria)\n",
    "\n",
    "# Normalizacija svojstvenog vektora\n",
    "weights = eigenvector / np.sum(eigenvector)\n",
    "\n",
    "# Provjera svojstvenih vrijednosti pomoću numpy (BONUS)\n",
    "eigvals, eigvecs = np.linalg.eig(A_criteria)\n",
    "lambda_max_numpy = eigvals.real.max()\n",
    "eigenvector_numpy = eigvecs[:, np.argmax(eigvals)].real\n",
    "eigenvector_numpy /= np.sum(eigenvector_numpy)\n",
    "\n",
    "# Rješavanje metodom potencija za alternative\n",
    "_, w1 = power_method(A1)\n",
    "_, w2 = power_method(A2)\n",
    "_, w3 = power_method(A3)\n",
    "\n",
    "# Normalizacija svojstvenih vektora\n",
    "w1 /= np.sum(w1)\n",
    "w2 /= np.sum(w2)\n",
    "w3 /= np.sum(w3)"
   ]
  },
  {
   "cell_type": "markdown",
   "metadata": {},
   "source": [
    "Kasnije, ali unutar istog radnog tjedna, aplikacija izračunava konačnu odluku..."
   ]
  },
  {
   "cell_type": "code",
   "execution_count": 26,
   "metadata": {},
   "outputs": [],
   "source": [
    "# Kombiniranje prioriteta alternativa pomoću težina kriterija\n",
    "final_scores = w1 * weights[0] + w2 * weights[1] + w3 * weights[2]\n",
    "\n",
    "# Konačni prioriteti koristeći numpy\n",
    "final_scores_numpy = w1 * eigenvector_numpy[0] + w2 * eigenvector_numpy[1] + w3 * eigenvector_numpy[2]\n",
    "\n",
    "# Razlika između metoda\n",
    "difference = np.abs(final_scores - final_scores_numpy)"
   ]
  },
  {
   "cell_type": "markdown",
   "metadata": {},
   "source": [
    "Napokon, iz trećeg pokušaja i nakon barem dva rušenja sustava, na ekranu Pere Perića se pojavljuje početak konačnog ispisa:"
   ]
  },
  {
   "cell_type": "code",
   "execution_count": 27,
   "metadata": {},
   "outputs": [
    {
     "name": "stdout",
     "output_type": "stream",
     "text": [
      "Kriteriji: ['Obrazovanje', 'Iskustvo', 'Komunikacijske vještine']\n",
      "Alternative: ['Kandidat 1', 'Kandidat 2', 'Kandidat 3', 'Kandidat 4']\n",
      "Početni vektor x0: [0.42630207 0.83871173 0.58456797]\n",
      "Matrica usporedbe kriterija:\n",
      " [[1.         3.         5.        ]\n",
      " [0.33333333 1.         2.        ]\n",
      " [0.2        0.5        1.        ]]\n"
     ]
    }
   ],
   "source": [
    "# Prikaz premise\n",
    "print(\"Kriteriji:\", criteria_labels)\n",
    "print(\"Alternative:\", alternatives_labels)\n",
    "print(\"Početni vektor x0:\", initial_x.flatten())\n",
    "print(\"Matrica usporedbe kriterija:\\n\", A_criteria)"
   ]
  },
  {
   "cell_type": "markdown",
   "metadata": {},
   "source": [
    "Negdje zakopano u filesystemu Pere Perića, aplikacija pohranjuje debug log sa idućim ispisom koji ne zanima Peru, ali USKOK bi mogao imati interesa:\n",
    "\n",
    "BONUS BONUS BONUS"
   ]
  },
  {
   "cell_type": "code",
   "execution_count": 28,
   "metadata": {},
   "outputs": [
    {
     "name": "stdout",
     "output_type": "stream",
     "text": [
      "Lambda max (metoda potencija): 3.003664914975423\n",
      "Lambda max (numpy eig): 3.00369459806364\n",
      "Vektor prioriteta kriterija (metoda potencija): [0.64832862 0.22965098 0.12202039]\n",
      "Vektor prioriteta kriterija (numpy eig): [0.64832901 0.22965079 0.12202019]\n",
      "Prioriteti alternativa po kriteriju 1: [0.46729409 0.09543501 0.16008952 0.27718139]\n",
      "Prioriteti alternativa po kriteriju 2: [0.46729664 0.16008802 0.09543467 0.27718068]\n",
      "Prioriteti alternativa po kriteriju 3: [0.48288541 0.27197458 0.15698997 0.08815004]\n",
      "Konačni prioriteti alternativa (metoda potencija): [0.46919713 0.13182406 0.14486326 0.25411555]\n",
      "Konačni prioriteti alternativa (numpy eig): [0.46919713 0.13182402 0.14486327 0.25411558]\n",
      "Razlika između metoda: [3.13639886e-09 4.77671310e-08 1.28831253e-08 3.80204044e-08]\n"
     ]
    }
   ],
   "source": [
    "print(\"Lambda max (metoda potencija):\", lambda_max)\n",
    "print(\"Lambda max (numpy eig):\", lambda_max_numpy)\n",
    "print(\"Vektor prioriteta kriterija (metoda potencija):\", weights)\n",
    "print(\"Vektor prioriteta kriterija (numpy eig):\", eigenvector_numpy)\n",
    "print(\"Prioriteti alternativa po kriteriju 1:\", w1)\n",
    "print(\"Prioriteti alternativa po kriteriju 2:\", w2)\n",
    "print(\"Prioriteti alternativa po kriteriju 3:\", w3)\n",
    "print(\"Konačni prioriteti alternativa (metoda potencija):\", final_scores)\n",
    "print(\"Konačni prioriteti alternativa (numpy eig):\", final_scores_numpy)\n",
    "print(\"Razlika između metoda:\", difference)"
   ]
  },
  {
   "cell_type": "markdown",
   "metadata": {},
   "source": [
    "Na kraju cijelog ispisa, Pero na svom ekranu jednoznačno vidi:"
   ]
  },
  {
   "cell_type": "code",
   "execution_count": 29,
   "metadata": {},
   "outputs": [
    {
     "name": "stdout",
     "output_type": "stream",
     "text": [
      "Najbolji kandidat prema metodi potencija je: Kandidat 1\n"
     ]
    }
   ],
   "source": [
    "print(\"Najbolji kandidat prema metodi potencija je:\", alternatives_labels[np.argmax(final_scores)])"
   ]
  },
  {
   "cell_type": "markdown",
   "metadata": {},
   "source": [
    "I tako je Pero Perić zaradio još 100 eura zaposlivši pravog malog od pravog rođe, i svi su dalje živjeli sretno (osim Ivana - njega su vratili na burzu)."
   ]
  },
  {
   "cell_type": "markdown",
   "metadata": {},
   "source": [
    "*Aplikacija zapravo nije bugovita i nije se izvršavala tjedan dana. To samo odgovara narativu. Slobodno pokrenite bilježnicu. Neće se ništa loše dogoditi. Obećajem.*\n",
    "\n",
    "*Šalu na stranu, hvala na čitanju ako ste došli do tud. Lp!*"
   ]
  }
 ],
 "metadata": {
  "kernelspec": {
   "display_name": "Python 3",
   "language": "python",
   "name": "python3"
  },
  "language_info": {
   "codemirror_mode": {
    "name": "ipython",
    "version": 3
   },
   "file_extension": ".py",
   "mimetype": "text/x-python",
   "name": "python",
   "nbconvert_exporter": "python",
   "pygments_lexer": "ipython3",
   "version": "3.10.11"
  }
 },
 "nbformat": 4,
 "nbformat_minor": 2
}
